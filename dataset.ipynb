{
 "cells": [
  {
   "cell_type": "markdown",
   "metadata": {},
   "source": [
    "# Dataset"
   ]
  },
  {
   "cell_type": "code",
   "execution_count": 6,
   "metadata": {},
   "outputs": [
    {
     "name": "stdout",
     "output_type": "stream",
     "text": [
      "[3.14159265 6.28318531]\n"
     ]
    }
   ],
   "source": [
    "import numpy as np\n",
    "\n",
    "bins = 2\n",
    "angle_bins = np.zeros(bins)\n",
    "interval = 2 * np.pi / bins\n",
    "\n",
    "for i in range(1, bins):\n",
    "    angle_bins[i] = i * interval\n",
    "angle_bins += interval\n",
    "print(angle_bins)"
   ]
  },
  {
   "cell_type": "code",
   "execution_count": 10,
   "metadata": {},
   "outputs": [
    {
     "name": "stdout",
     "output_type": "stream",
     "text": [
      "0\n",
      "1\n",
      "[(6.183185307179587, 3.241592653589793), (3.041592653589793, 0.09999999999999964)]\n"
     ]
    }
   ],
   "source": [
    "overlap = 0.1\n",
    "\n",
    "bin_ranges = []\n",
    "for i in range(0, bins):\n",
    "    print(i)\n",
    "    bin_ranges.append(( (i*interval - overlap) % (2*np.pi), (i*interval + interval + overlap) % (2*np.pi) ))\n",
    "print(bin_ranges)"
   ]
  },
  {
   "cell_type": "markdown",
   "metadata": {},
   "source": [
    "## image"
   ]
  },
  {
   "cell_type": "markdown",
   "metadata": {},
   "source": [
    "P : 7.188560e+02 0.000000e+00 6.071928e+02 4.538225e+01 0.000000e+00 7.188560e+02 1.852157e+02 -1.130887e-01 0.000000e+00 0.000000e+00 1.000000e+00 3.779761e-03"
   ]
  },
  {
   "cell_type": "code",
   "execution_count": 2,
   "metadata": {},
   "outputs": [],
   "source": [
    "width = 1224\n",
    "height = 370\n",
    "\n",
    "focal = 7.188560e+02\n"
   ]
  },
  {
   "cell_type": "code",
   "execution_count": 7,
   "metadata": {},
   "outputs": [
    {
     "name": "stdout",
     "output_type": "stream",
     "text": [
      "3.1415881075140057\n"
     ]
    }
   ],
   "source": [
    "import numpy as np\n",
    "\n",
    "fovx = 2 * np.arctan(width / 2*focal)\n",
    "print(fovx)"
   ]
  },
  {
   "cell_type": "code",
   "execution_count": null,
   "metadata": {},
   "outputs": [],
   "source": [
    "angle = np.arctan((2*dx*np.tan(fovx/2)) / width)"
   ]
  }
 ],
 "metadata": {
  "interpreter": {
   "hash": "9a8afd6e18351793536910626bd532d9029e670ebc4ef3fe6c1c25630347a060"
  },
  "kernelspec": {
   "display_name": "Python 3.8.12 ('depth')",
   "language": "python",
   "name": "python3"
  },
  "language_info": {
   "codemirror_mode": {
    "name": "ipython",
    "version": 3
   },
   "file_extension": ".py",
   "mimetype": "text/x-python",
   "name": "python",
   "nbconvert_exporter": "python",
   "pygments_lexer": "ipython3",
   "version": "3.8.12"
  },
  "orig_nbformat": 4
 },
 "nbformat": 4,
 "nbformat_minor": 2
}
